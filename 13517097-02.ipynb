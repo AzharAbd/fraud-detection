{
 "cells": [
  {
   "cell_type": "markdown",
   "metadata": {},
   "source": [
    "### Azhar Abdurrasyid\n",
    "### 13517097"
   ]
  },
  {
   "cell_type": "code",
   "execution_count": 1,
   "metadata": {},
   "outputs": [
    {
     "name": "stdout",
     "output_type": "stream",
     "text": [
      "TRAINING DATA\n",
      "(4502, 2)\n",
      "  type                                               text\n",
      "0  ham             Babe, I'm back ... Come back to me ...\n",
      "1  ham                         S:)no competition for him.\n",
      "2  ham    Yup having my lunch buffet now.. U eat already?\n",
      "3  ham  Storming msg: Wen u lift d phne, u say HELLO D...\n",
      "4  ham  Mark works tomorrow. He gets out at 5. His wor...\n",
      "\n",
      "\n",
      "TESTING DATA\n",
      "(556, 2)\n",
      "  type                                               text\n",
      "0  ham                        Anything lor... U decide...\n",
      "1  ham  So u pay first lar... Then when is da stock co...\n",
      "2  ham  I got a call from a landline number. . . I am ...\n",
      "3  ham  Cool. So how come you havent been wined and di...\n",
      "4  ham  Dunno lei u all decide lor. How abt leona? Oop...\n",
      "\n",
      "\n",
      "VALIDATION DATA\n",
      "(501, 2)\n",
      "  type                                               text\n",
      "0  ham                       We can make a baby in yo tho\n",
      "1  ham          Aight will do, thanks again for comin out\n",
      "2  ham  hope things went well at 'doctors' ;) reminds ...\n",
      "3  ham      Thanks for this hope you had a good day today\n",
      "4  ham  No i'm not. I can't give you everything you wa...\n"
     ]
    }
   ],
   "source": [
    "import pandas as pd\n",
    "\n",
    "training_data = pd.read_csv('training_data.csv')\n",
    "testing_data = pd.read_csv('testing_data.csv')\n",
    "val_data = pd.read_csv('val_data.csv')\n",
    "\n",
    "print(\"TRAINING DATA\")\n",
    "print(training_data.shape)\n",
    "print(training_data.head())\n",
    "print(\"\\n\")\n",
    "\n",
    "print(\"TESTING DATA\")\n",
    "print(testing_data.shape) \n",
    "print(testing_data.head())\n",
    "print(\"\\n\")\n",
    "\n",
    "print(\"VALIDATION DATA\")\n",
    "print(val_data.shape)\n",
    "print(val_data.head())"
   ]
  },
  {
   "cell_type": "markdown",
   "metadata": {},
   "source": [
    "## Data Preparation"
   ]
  },
  {
   "cell_type": "code",
   "execution_count": 23,
   "metadata": {},
   "outputs": [],
   "source": [
    "# Stopwords\n",
    "from nltk.corpus import stopwords\n",
    "stop = stopwords.words('english')\n",
    "\n",
    "# Spell correction\n",
    "from textblob import TextBlob\n",
    "\n",
    "# Lemmatizer\n",
    "from nltk.stem import WordNetLemmatizer \n",
    "lemmatizer = WordNetLemmatizer()\n",
    "\n",
    "# Tokenizer\n",
    "from nltk import word_tokenize\n",
    "\n",
    "def prepare_data(raw_data):\n",
    "    cleaned_data = raw_data\n",
    "\n",
    "    # Remove non-alphanumeric\n",
    "    cleaned_data = cleaned_data.str.replace('[^\\s\\w]|_', '')\n",
    "    \n",
    "    # Transform to lowercase\n",
    "    cleaned_data = cleaned_data.str.lower()\n",
    "    \n",
    "    # Remove stop words\n",
    "    cleaned_data = cleaned_data.apply(lambda x: ' '.join([word for word in x.split() if word not in (stop)]))\n",
    "    \n",
    "    # Spell correction (exhaustive)\n",
    "    cleaned_data = cleaned_data.apply(lambda sentence: str(TextBlob(sentence).correct()))\n",
    "    \n",
    "    # Tokenize & Lemmatize\n",
    "    tokenized_cleaned_data = []\n",
    "    for sentence in cleaned_data:\n",
    "        tokenized_cleaned_data.append([lemmatizer.lemmatize(w) for w in word_tokenize(sentence)])\n",
    "\n",
    "    return tokenized_cleaned_data\n",
    "    "
   ]
  },
  {
   "cell_type": "code",
   "execution_count": 24,
   "metadata": {},
   "outputs": [
    {
     "name": "stdout",
     "output_type": "stream",
     "text": [
      "TRAINING DATA\n",
      "(4502, 3)\n",
      "  type                                               text  \\\n",
      "0  ham             Babe, I'm back ... Come back to me ...   \n",
      "1  ham                         S:)no competition for him.   \n",
      "2  ham    Yup having my lunch buffet now.. U eat already?   \n",
      "3  ham  Storming msg: Wen u lift d phne, u say HELLO D...   \n",
      "4  ham  Mark works tomorrow. He gets out at 5. His wor...   \n",
      "\n",
      "                                            tokenize  \n",
      "0                       [babe, in, back, come, back]  \n",
      "1                                  [so, competition]  \n",
      "2               [up, lunch, buffet, u, eat, already]  \n",
      "3  [storming, mug, wen, u, lift, pine, u, say, he...  \n",
      "4  [mark, work, tomorrow, get, 5, work, house, me...  \n",
      "\n",
      "\n",
      "TESTING DATA\n",
      "(556, 3)\n",
      "  type                                               text  \\\n",
      "0  ham                        Anything lor... U decide...   \n",
      "1  ham  So u pay first lar... Then when is da stock co...   \n",
      "2  ham  I got a call from a landline number. . . I am ...   \n",
      "3  ham  Cool. So how come you havent been wined and di...   \n",
      "4  ham  Dunno lei u all decide lor. How abt leona? Oop...   \n",
      "\n",
      "                                            tokenize  \n",
      "0                         [anything, for, u, decide]  \n",
      "1            [u, pay, first, war, da, stock, coming]  \n",
      "2  [got, call, lanoline, number, asked, come, ann...  \n",
      "3                  [cool, come, haven, wined, dined]  \n",
      "4  [funny, let, u, decide, for, at, leon, loop, t...  \n",
      "\n",
      "\n",
      "VALIDATION DATA\n",
      "(501, 3)\n",
      "  type                                               text  \\\n",
      "0  ham                       We can make a baby in yo tho   \n",
      "1  ham          Aight will do, thanks again for comin out   \n",
      "2  ham  hope things went well at 'doctors' ;) reminds ...   \n",
      "3  ham      Thanks for this hope you had a good day today   \n",
      "4  ham  No i'm not. I can't give you everything you wa...   \n",
      "\n",
      "                                            tokenize  \n",
      "0                              [make, baby, to, the]  \n",
      "1                            [right, thanks, coming]  \n",
      "2  [hope, thing, went, well, doctor, reminds, sti...  \n",
      "3                   [thanks, hope, good, day, today]  \n",
      "4  [in, can, give, everything, want, need, actual...  \n"
     ]
    }
   ],
   "source": [
    "training_data['tokenize'] = prepare_data(training_data['text'])\n",
    "\n",
    "testing_data['tokenize'] = prepare_data(testing_data['text'])\n",
    "\n",
    "val_data['tokenize'] = prepare_data(val_data['text'])\n",
    "\n",
    "print(\"TRAINING DATA\")\n",
    "print(training_data.shape)\n",
    "print(training_data.head())\n",
    "print(\"\\n\")\n",
    "\n",
    "print(\"TESTING DATA\")\n",
    "print(testing_data.shape)\n",
    "print(testing_data.head())\n",
    "print(\"\\n\")\n",
    "\n",
    "print(\"VALIDATION DATA\")\n",
    "print(val_data.shape)\n",
    "print(val_data.head())"
   ]
  },
  {
   "cell_type": "markdown",
   "metadata": {},
   "source": [
    "### Feature Extraction"
   ]
  },
  {
   "cell_type": "markdown",
   "metadata": {},
   "source": [
    "#### Features as bag of words<br>\n",
    "1. Create word dictionaries from training data <br>\n",
    "2. Transform sentence to Term x Document matrix"
   ]
  },
  {
   "cell_type": "code",
   "execution_count": 43,
   "metadata": {},
   "outputs": [],
   "source": [
    "# Create word dictionaries\n",
    "def get_word_dictionaries(data):\n",
    "    word_dictionaries = []\n",
    "    for sentence in data:\n",
    "        for word in sentence:\n",
    "            word_dictionaries.append(word)\n",
    "            \n",
    "    return list(set(word_dictionaries))\n",
    "\n",
    "# Transform sentence to Term x Document matrix\n",
    "def get_word_counts(data, dictionaries):\n",
    "    word_counts_per_term = {unique_word: [0] * len(data) for unique_word in dictionaries}\n",
    "    \n",
    "    for index, sentence in enumerate(data):\n",
    "        for word in sentence:\n",
    "            if word in dictionaries:\n",
    "                word_counts_per_term[word][index] += 1\n",
    "            \n",
    "    return pd.DataFrame(word_counts_per_term)  "
   ]
  },
  {
   "cell_type": "code",
   "execution_count": 36,
   "metadata": {},
   "outputs": [
    {
     "data": {
      "text/html": [
       "<div>\n",
       "<style scoped>\n",
       "    .dataframe tbody tr th:only-of-type {\n",
       "        vertical-align: middle;\n",
       "    }\n",
       "\n",
       "    .dataframe tbody tr th {\n",
       "        vertical-align: top;\n",
       "    }\n",
       "\n",
       "    .dataframe thead th {\n",
       "        text-align: right;\n",
       "    }\n",
       "</style>\n",
       "<table border=\"1\" class=\"dataframe\">\n",
       "  <thead>\n",
       "    <tr style=\"text-align: right;\">\n",
       "      <th></th>\n",
       "      <th>type</th>\n",
       "      <th>ba</th>\n",
       "      <th>squatting</th>\n",
       "      <th>executive</th>\n",
       "      <th>feather</th>\n",
       "      <th>endowed</th>\n",
       "      <th>woolen</th>\n",
       "      <th>aeronautics</th>\n",
       "      <th>listening2the</th>\n",
       "      <th>science</th>\n",
       "      <th>...</th>\n",
       "      <th>weed</th>\n",
       "      <th>satisfy</th>\n",
       "      <th>ali</th>\n",
       "      <th>ranjith</th>\n",
       "      <th>vive</th>\n",
       "      <th>concentrate</th>\n",
       "      <th>banneduk</th>\n",
       "      <th>mobilesvary</th>\n",
       "      <th>throwing</th>\n",
       "      <th>chikkuwat</th>\n",
       "    </tr>\n",
       "  </thead>\n",
       "  <tbody>\n",
       "    <tr>\n",
       "      <th>0</th>\n",
       "      <td>ham</td>\n",
       "      <td>0</td>\n",
       "      <td>0</td>\n",
       "      <td>0</td>\n",
       "      <td>0</td>\n",
       "      <td>0</td>\n",
       "      <td>0</td>\n",
       "      <td>0</td>\n",
       "      <td>0</td>\n",
       "      <td>0</td>\n",
       "      <td>...</td>\n",
       "      <td>0</td>\n",
       "      <td>0</td>\n",
       "      <td>0</td>\n",
       "      <td>0</td>\n",
       "      <td>0</td>\n",
       "      <td>0</td>\n",
       "      <td>0</td>\n",
       "      <td>0</td>\n",
       "      <td>0</td>\n",
       "      <td>0</td>\n",
       "    </tr>\n",
       "    <tr>\n",
       "      <th>1</th>\n",
       "      <td>ham</td>\n",
       "      <td>0</td>\n",
       "      <td>0</td>\n",
       "      <td>0</td>\n",
       "      <td>0</td>\n",
       "      <td>0</td>\n",
       "      <td>0</td>\n",
       "      <td>0</td>\n",
       "      <td>0</td>\n",
       "      <td>0</td>\n",
       "      <td>...</td>\n",
       "      <td>0</td>\n",
       "      <td>0</td>\n",
       "      <td>0</td>\n",
       "      <td>0</td>\n",
       "      <td>0</td>\n",
       "      <td>0</td>\n",
       "      <td>0</td>\n",
       "      <td>0</td>\n",
       "      <td>0</td>\n",
       "      <td>0</td>\n",
       "    </tr>\n",
       "    <tr>\n",
       "      <th>2</th>\n",
       "      <td>ham</td>\n",
       "      <td>0</td>\n",
       "      <td>0</td>\n",
       "      <td>0</td>\n",
       "      <td>0</td>\n",
       "      <td>0</td>\n",
       "      <td>0</td>\n",
       "      <td>0</td>\n",
       "      <td>0</td>\n",
       "      <td>0</td>\n",
       "      <td>...</td>\n",
       "      <td>0</td>\n",
       "      <td>0</td>\n",
       "      <td>0</td>\n",
       "      <td>0</td>\n",
       "      <td>0</td>\n",
       "      <td>0</td>\n",
       "      <td>0</td>\n",
       "      <td>0</td>\n",
       "      <td>0</td>\n",
       "      <td>0</td>\n",
       "    </tr>\n",
       "    <tr>\n",
       "      <th>3</th>\n",
       "      <td>ham</td>\n",
       "      <td>0</td>\n",
       "      <td>0</td>\n",
       "      <td>0</td>\n",
       "      <td>0</td>\n",
       "      <td>0</td>\n",
       "      <td>0</td>\n",
       "      <td>0</td>\n",
       "      <td>0</td>\n",
       "      <td>0</td>\n",
       "      <td>...</td>\n",
       "      <td>0</td>\n",
       "      <td>0</td>\n",
       "      <td>0</td>\n",
       "      <td>0</td>\n",
       "      <td>0</td>\n",
       "      <td>0</td>\n",
       "      <td>0</td>\n",
       "      <td>0</td>\n",
       "      <td>0</td>\n",
       "      <td>0</td>\n",
       "    </tr>\n",
       "    <tr>\n",
       "      <th>4</th>\n",
       "      <td>ham</td>\n",
       "      <td>0</td>\n",
       "      <td>0</td>\n",
       "      <td>0</td>\n",
       "      <td>0</td>\n",
       "      <td>0</td>\n",
       "      <td>0</td>\n",
       "      <td>0</td>\n",
       "      <td>0</td>\n",
       "      <td>0</td>\n",
       "      <td>...</td>\n",
       "      <td>0</td>\n",
       "      <td>0</td>\n",
       "      <td>0</td>\n",
       "      <td>0</td>\n",
       "      <td>0</td>\n",
       "      <td>0</td>\n",
       "      <td>0</td>\n",
       "      <td>0</td>\n",
       "      <td>0</td>\n",
       "      <td>0</td>\n",
       "    </tr>\n",
       "  </tbody>\n",
       "</table>\n",
       "<p>5 rows × 6065 columns</p>\n",
       "</div>"
      ],
      "text/plain": [
       "  type  ba  squatting  executive  feather  endowed  woolen  aeronautics  \\\n",
       "0  ham   0          0          0        0        0       0            0   \n",
       "1  ham   0          0          0        0        0       0            0   \n",
       "2  ham   0          0          0        0        0       0            0   \n",
       "3  ham   0          0          0        0        0       0            0   \n",
       "4  ham   0          0          0        0        0       0            0   \n",
       "\n",
       "   listening2the  science  ...  weed  satisfy  ali  ranjith  vive  \\\n",
       "0              0        0  ...     0        0    0        0     0   \n",
       "1              0        0  ...     0        0    0        0     0   \n",
       "2              0        0  ...     0        0    0        0     0   \n",
       "3              0        0  ...     0        0    0        0     0   \n",
       "4              0        0  ...     0        0    0        0     0   \n",
       "\n",
       "   concentrate  banneduk  mobilesvary  throwing  chikkuwat  \n",
       "0            0         0            0         0          0  \n",
       "1            0         0            0         0          0  \n",
       "2            0         0            0         0          0  \n",
       "3            0         0            0         0          0  \n",
       "4            0         0            0         0          0  \n",
       "\n",
       "[5 rows x 6065 columns]"
      ]
     },
     "execution_count": 36,
     "metadata": {},
     "output_type": "execute_result"
    }
   ],
   "source": [
    "dictionaries = get_word_dictionaries(training_data['tokenize'])\n",
    "word_counts['traning_data'] = get_word_counts(training_data['tokenize'], dictionaries)\n",
    "\n",
    "training_data_clean = pd.concat([training_data['type'], word_counts['training_data']], axis=1)\n",
    "training_data_clean.head()"
   ]
  },
  {
   "cell_type": "code",
   "execution_count": 46,
   "metadata": {},
   "outputs": [],
   "source": [
    "word_counts_train = get_word_counts(training_data['tokenize'], dictionaries)\n",
    "word_counts_test = get_word_counts(testing_data['tokenize'], dictionaries)\n",
    "word_counts_val = get_word_counts(val_data['tokenize'], dictionaries)"
   ]
  },
  {
   "cell_type": "markdown",
   "metadata": {},
   "source": [
    "### Classification"
   ]
  },
  {
   "cell_type": "code",
   "execution_count": 83,
   "metadata": {},
   "outputs": [],
   "source": [
    "import numpy as np\n",
    "import matplotlib.pyplot as plt\n",
    "from sklearn.metrics import plot_confusion_matrix\n",
    "from sklearn.metrics import f1_score\n",
    "\n",
    "# Get Accuracy\n",
    "def get_accuracy(actual, pred):\n",
    "    count = 0\n",
    "    for i in range(len(actual)):\n",
    "        if actual[i] == pred[i]:\n",
    "            count += 1\n",
    "    return count/len(actual)\n",
    "\n",
    "class_names = ['ham', 'spam']\n",
    "# Display confusion matrix\n",
    "def confusion_matrix(classifier, x, y, title):\n",
    "    disp = plot_confusion_matrix(classifier, x, y, display_labels=class_names, cmap=plt.cm.Blues,normalize='true')\n",
    "    disp.ax_.set_title(title)\n",
    "\n",
    "    print(title)\n",
    "    print(disp.confusion_matrix)\n",
    "    plt.show()"
   ]
  },
  {
   "cell_type": "markdown",
   "metadata": {},
   "source": [
    "#### Naive Bayes"
   ]
  },
  {
   "cell_type": "code",
   "execution_count": 87,
   "metadata": {},
   "outputs": [
    {
     "name": "stdout",
     "output_type": "stream",
     "text": [
      "Chosen parameter:  5e-10\n"
     ]
    }
   ],
   "source": [
    "from sklearn.naive_bayes import GaussianNB\n",
    "\n",
    "batch = 10\n",
    "best_acc = 0\n",
    "best_c = 0\n",
    "\n",
    "for i in range (batch):\n",
    "    c_temp = 5e-10 + (i*5e-10)\n",
    "    nb = GaussianNB(var_smoothing=c_temp)\n",
    "    nb.fit(word_counts_train, training_data['type'])\n",
    "    y_pred_nb = nb.predict(word_counts_val)\n",
    "    acc = get_accuracy(val_data['type'], y_pred_nb)\n",
    "    if (acc > best_acc):\n",
    "        best_acc = acc\n",
    "        best_c = c_temp\n",
    "        \n",
    "print(\"Chosen parameter: \", best_c)\n",
    "nb = GaussianNB(var_smoothing=best_c)\n",
    "nb.fit(word_counts_train, training_data['type'])\n",
    "y_pred_nb = nb.predict(word_counts_test)"
   ]
  },
  {
   "cell_type": "code",
   "execution_count": 96,
   "metadata": {},
   "outputs": [
    {
     "name": "stdout",
     "output_type": "stream",
     "text": [
      "F1 Score:  0.907469342251951\n",
      "\n",
      "\n",
      "Accuracy:  0.8507194244604317\n",
      "\n",
      "\n",
      "Confusion Matrix NB Gaussian\n",
      "[[0.84090909 0.15909091]\n",
      " [0.08333333 0.91666667]]\n"
     ]
    },
    {
     "data": {
      "image/png": "[encoded data removed]",
      "text/plain": [
       "<Figure size 432x288 with 2 Axes>"
      ]
     },
     "metadata": {
      "needs_background": "light"
     },
     "output_type": "display_data"
    }
   ],
   "source": [
    "f1_nb = f1_score(testing_data['type'], y_pred_nb, average=None)\n",
    "print(\"F1 Score: \", f1_nb[0])\n",
    "print(\"\\n\")\n",
    "\n",
    "accuracy = get_accuracy(testing_data['type'], y_pred_nb)\n",
    "print(\"Accuracy: \", accuracy)\n",
    "print(\"\\n\")\n",
    "\n",
    "confusion_matrix(nb, word_counts_test, testing_data['type'], \"Confusion Matrix NB Gaussian\")"
   ]
  },
  {
   "cell_type": "markdown",
   "metadata": {},
   "source": [
    "#### Linear SVM"
   ]
  },
  {
   "cell_type": "code",
   "execution_count": 93,
   "metadata": {},
   "outputs": [
    {
     "name": "stdout",
     "output_type": "stream",
     "text": [
      "Chosen parameter:  0.17500000000000002\n"
     ]
    }
   ],
   "source": [
    "from sklearn.svm import SVC\n",
    "\n",
    "batch = 10\n",
    "best_acc = 0\n",
    "best_c = 0\n",
    "\n",
    "for i in range (batch):\n",
    "    c_temp = 0.025 + (i*0.025)\n",
    "    svm = SVC(kernel=\"linear\", C=c_temp)\n",
    "    svm.fit(word_counts_train, training_data['type'])\n",
    "    y_pred_svm = svm.predict(word_counts_val)\n",
    "    acc = get_accuracy(val_data['type'], y_pred_svm)\n",
    "    if (acc > best_acc):\n",
    "        best_acc = acc\n",
    "        best_c = c_temp\n",
    "        \n",
    "print(\"Chosen parameter: \", best_c)\n",
    "svm = SVC(kernel=\"linear\", C=best_c)\n",
    "svm.fit(word_counts_train, training_data['type'])\n",
    "y_pred_svm = svm.predict(word_counts_test)"
   ]
  },
  {
   "cell_type": "code",
   "execution_count": 95,
   "metadata": {},
   "outputs": [
    {
     "name": "stdout",
     "output_type": "stream",
     "text": [
      "F1 Score:  0.9938398357289528\n",
      "\n",
      "\n",
      "Accuracy:  0.9892086330935251\n",
      "\n",
      "\n",
      "Confusion Matrix SVM\n",
      "[[1.         0.        ]\n",
      " [0.08333333 0.91666667]]\n"
     ]
    },
    {
     "data": {
      "image/png": "[encoded data removed]",
      "text/plain": [
       "<Figure size 432x288 with 2 Axes>"
      ]
     },
     "metadata": {
      "needs_background": "light"
     },
     "output_type": "display_data"
    }
   ],
   "source": [
    "from sklearn.metrics import f1_score\n",
    "f1_svm = f1_score(testing_data['type'], y_pred_svm, average=None)\n",
    "print(\"F1 Score: \", f1_svm[0])\n",
    "print(\"\\n\")\n",
    "\n",
    "accuracy = get_accuracy(testing_data['type'], y_pred_svm)\n",
    "print(\"Accuracy: \", accuracy)\n",
    "print(\"\\n\")\n",
    "\n",
    "confusion_matrix(svm, word_counts_test, testing_data['type'], \"Confusion Matrix SVM\")"
   ]
  },
  {
   "cell_type": "markdown",
   "metadata": {},
   "source": [
    "#### Logistic Regression"
   ]
  },
  {
   "cell_type": "code",
   "execution_count": 73,
   "metadata": {},
   "outputs": [
    {
     "name": "stdout",
     "output_type": "stream",
     "text": [
      "Chosen parameter:  0.2\n"
     ]
    }
   ],
   "source": [
    "from sklearn.linear_model import LogisticRegression\n",
    "\n",
    "batch = 10\n",
    "best_acc = 0\n",
    "best_c = 0\n",
    "\n",
    "for i in range (batch):\n",
    "    c_temp = 0.025 + (i*0.025)\n",
    "    lr = LogisticRegression(C=c_temp)\n",
    "    lr.fit(word_counts_train, training_data['type'])\n",
    "    y_pred_lr = lr.predict(word_counts_val)\n",
    "    acc = get_accuracy(val_data['type'], y_pred_lr)\n",
    "    if (acc > best_acc):\n",
    "        best_acc = acc\n",
    "        best_c = c_temp\n",
    "\n",
    "print(\"Chosen parameter: \", best_c)\n",
    "lr = LogisticRegression(C=best_c)\n",
    "lr.fit(word_counts_train, training_data['type'])\n",
    "y_pred_lr = lr.predict(word_counts_test)"
   ]
  },
  {
   "cell_type": "code",
   "execution_count": 94,
   "metadata": {},
   "outputs": [
    {
     "name": "stdout",
     "output_type": "stream",
     "text": [
      "F1 Score:  0.9928205128205128\n",
      "\n",
      "\n",
      "Accuracy:  0.9838129496402878\n",
      "\n",
      "\n",
      "Confusion Matrix Logistic Regression\n",
      "[[1.    0.   ]\n",
      " [0.125 0.875]]\n"
     ]
    },
    {
     "data": {
      "image/png": "[encoded data removed]",
      "text/plain": [
       "<Figure size 432x288 with 2 Axes>"
      ]
     },
     "metadata": {
      "needs_background": "light"
     },
     "output_type": "display_data"
    }
   ],
   "source": [
    "from sklearn.metrics import f1_score\n",
    "f1_lr = f1_score(testing_data['type'], y_pred, average=None)\n",
    "print(\"F1 Score: \", f1_lr[0])\n",
    "print(\"\\n\")\n",
    "\n",
    "accuracy = get_accuracy(testing_data['type'], y_pred_lr)\n",
    "print(\"Accuracy: \", accuracy)\n",
    "print(\"\\n\")\n",
    "\n",
    "confusion_matrix(lr, word_counts_test, testing_data['type'], \"Confusion Matrix Logistic Regression\")"
   ]
  }
 ],
 "metadata": {
  "kernelspec": {
   "display_name": "Python 3",
   "language": "python",
   "name": "python3"
  },
  "language_info": {
   "codemirror_mode": {
    "name": "ipython",
    "version": 3
   },
   "file_extension": ".py",
   "mimetype": "text/x-python",
   "name": "python",
   "nbconvert_exporter": "python",
   "pygments_lexer": "ipython3",
   "version": "3.8.4"
  }
 },
 "nbformat": 4,
 "nbformat_minor": 4
}
