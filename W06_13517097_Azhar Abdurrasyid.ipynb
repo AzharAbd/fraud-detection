{
 "cells": [
  {
   "cell_type": "markdown",
   "metadata": {},
   "source": [
    "# Week 06 Handson - Text Classifier\n",
    "In this week hands-on, we will create a sentiment analyzer on twitter using the concept of classification and text pre-processing that we have learned before. We will cover:<br>\n",
    "a. text pre-processing,<br>\n",
    "b. splitting data for training & testing and converting them into numerical features,<br>\n",
    "c. training a classifier model and perform predictions on testing dataset,<br>\n",
    "d. Evaluating performance of algorithm<br>"
   ]
  },
  {
   "cell_type": "markdown",
   "metadata": {},
   "source": [
    "## Read dataset \"tweets.csv\""
   ]
  },
  {
   "cell_type": "code",
   "execution_count": 2,
   "metadata": {},
   "outputs": [
    {
     "data": {
      "text/html": [
       "<div>\n",
       "<style scoped>\n",
       "    .dataframe tbody tr th:only-of-type {\n",
       "        vertical-align: middle;\n",
       "    }\n",
       "\n",
       "    .dataframe tbody tr th {\n",
       "        vertical-align: top;\n",
       "    }\n",
       "\n",
       "    .dataframe thead th {\n",
       "        text-align: right;\n",
       "    }\n",
       "</style>\n",
       "<table border=\"1\" class=\"dataframe\">\n",
       "  <thead>\n",
       "    <tr style=\"text-align: right;\">\n",
       "      <th></th>\n",
       "      <th>ItemID</th>\n",
       "      <th>Sentiment</th>\n",
       "      <th>SentimentSource</th>\n",
       "      <th>SentimentText</th>\n",
       "    </tr>\n",
       "  </thead>\n",
       "  <tbody>\n",
       "    <tr>\n",
       "      <th>0</th>\n",
       "      <td>1038</td>\n",
       "      <td>1</td>\n",
       "      <td>Sentiment140</td>\n",
       "      <td>that film is fantastic #brilliant</td>\n",
       "    </tr>\n",
       "    <tr>\n",
       "      <th>1</th>\n",
       "      <td>1804</td>\n",
       "      <td>1</td>\n",
       "      <td>Sentiment140</td>\n",
       "      <td>this music is really bad #myband</td>\n",
       "    </tr>\n",
       "    <tr>\n",
       "      <th>2</th>\n",
       "      <td>1693</td>\n",
       "      <td>0</td>\n",
       "      <td>Sentiment140</td>\n",
       "      <td>winter is terrible #thumbs-down</td>\n",
       "    </tr>\n",
       "    <tr>\n",
       "      <th>3</th>\n",
       "      <td>1477</td>\n",
       "      <td>0</td>\n",
       "      <td>Sentiment140</td>\n",
       "      <td>this game is awful #nightmare</td>\n",
       "    </tr>\n",
       "    <tr>\n",
       "      <th>4</th>\n",
       "      <td>45</td>\n",
       "      <td>1</td>\n",
       "      <td>Sentiment140</td>\n",
       "      <td>I love jam #loveit</td>\n",
       "    </tr>\n",
       "  </tbody>\n",
       "</table>\n",
       "</div>"
      ],
      "text/plain": [
       "   ItemID  Sentiment SentimentSource                      SentimentText\n",
       "0    1038          1    Sentiment140  that film is fantastic #brilliant\n",
       "1    1804          1    Sentiment140   this music is really bad #myband\n",
       "2    1693          0    Sentiment140    winter is terrible #thumbs-down\n",
       "3    1477          0    Sentiment140      this game is awful #nightmare\n",
       "4      45          1    Sentiment140                 I love jam #loveit"
      ]
     },
     "execution_count": 2,
     "metadata": {},
     "output_type": "execute_result"
    }
   ],
   "source": [
    "import numpy as np\n",
    "import pandas as pd\n",
    "\n",
    "tweets = pd.read_csv('./tweets.csv', sep=\",\")# adjust with your own path\n",
    "tweets.head()"
   ]
  },
  {
   "cell_type": "markdown",
   "metadata": {},
   "source": [
    "## Milestone 01 (W01)\n",
    "The given dataset is still a 'raw dataset' which includes some unwanted features, unwanted characters, etc.<br>\n",
    "a. Select the `SentimentText` column as an attribute and the `Sentiment` column as a label (ground truth) for this study case<br><br>\n",
    "b. In this M01.b, you have been provided a function template `pre_process` (see below) to perform all the pre-processing step to the all tweet data in the dataset. Complete pre-process function with all techniques that you have learned in the previous hands-on week (W03) for text pre-processing, so the all text attributes can be converted to `pre-processed text`, e.g., after being applied by: (i) tokenization, (ii) normalization, (iii) cleaning, (iv) stemming or lemmatization. Here, you will get `list of words`.<br><br>\n",
    "c. Use the function that you have completed in M01.b, looped for each data row of `SentimentText` column. For each looping, you will get `list of words`. Append this `list of words` for each looping result in to list, so, will get `list of list`.<br><br>\n",
    "\n",
    "d. Split (random & stratified) `list of list` you get in M01.c into `training data` and `testing data`. The testing dataset must be 20% from overall dataset. Print the total number of initial dataset, total number of training dataset and testing dataset. <br>\n"
   ]
  },
  {
   "cell_type": "code",
   "execution_count": 4,
   "metadata": {},
   "outputs": [],
   "source": [
    "#put your code here for M01.a\n",
    "data = tweets['SentimentText'].tolist()\n",
    "label = tweets['Sentiment'].tolist()"
   ]
  },
  {
   "cell_type": "code",
   "execution_count": 5,
   "metadata": {},
   "outputs": [],
   "source": [
    "#put your code here for M01.b\n",
    "import nltk\n",
    "from nltk.tokenize import word_tokenize\n",
    "import string\n",
    "from nltk.corpus import stopwords\n",
    "from nltk.stem import PorterStemmer\n",
    "\n",
    "def pre_process(input_ori):\n",
    "    '''\n",
    "    Write code implementation for text pre-processing here. \n",
    "    Use what you have learned before about text pre-processing.\n",
    "    \n",
    "    Parameter:\n",
    "    input_ori = raw data text (single tweet data)\n",
    "    \n",
    "    Return value:\n",
    "    processed_tweet = 'list of words'\n",
    "    \n",
    "    \n",
    "    '''\n",
    "    #Tokenization\n",
    "    tokens = word_tokenize(input_ori)\n",
    "    \n",
    "    #Convert to Lower Case\n",
    "    normalized_words = [w.lower() for w in tokens]\n",
    "    \n",
    "    #Cleaning 01: Remove Punctuation\n",
    "    table = str.maketrans('', '', string.punctuation)\n",
    "    punc_removed = [w.translate(table) for w in normalized_words]\n",
    "    \n",
    "    #Cleaning 02: Remove Not Alphabetic\n",
    "    isalpha_words = [word for word in punc_removed if word.isalpha()]\n",
    "    \n",
    "    #Cleaning 03: Remove Stop Words\n",
    "    stop_words = set(stopwords.words('english'))\n",
    "    stopWords_removed = [w for w in isalpha_words if not w in stop_words]\n",
    "    \n",
    "    #Stemming\n",
    "    ps = PorterStemmer()\n",
    "    stemmed_word = [ps.stem(w) for w in stopWords_removed]\n",
    "    \n",
    "    processed_tweet = stemmed_word\n",
    "    \n",
    "    return processed_tweet"
   ]
  },
  {
   "cell_type": "code",
   "execution_count": 9,
   "metadata": {},
   "outputs": [],
   "source": [
    "#put your code here for M01.c\n",
    "preprocessed_data = []\n",
    "\n",
    "for tweet in data:\n",
    "    preprocessed_data.append(pre_process(tweet))"
   ]
  },
  {
   "cell_type": "code",
   "execution_count": 12,
   "metadata": {},
   "outputs": [
    {
     "name": "stdout",
     "output_type": "stream",
     "text": [
      "['film', 'fantast', 'brilliant']\n"
     ]
    }
   ],
   "source": [
    "print(preprocessed_data[0])"
   ]
  },
  {
   "cell_type": "code",
   "execution_count": 28,
   "metadata": {},
   "outputs": [
    {
     "name": "stdout",
     "output_type": "stream",
     "text": [
      "original:  1932 1932\n",
      "training:  1545 1545\n",
      "testing:  387 387\n"
     ]
    }
   ],
   "source": [
    "#put your code here for M01.d\n",
    "from sklearn.model_selection import StratifiedShuffleSplit\n",
    "\n",
    "sss = StratifiedShuffleSplit(n_splits=1, train_size=0.8,  test_size=0.2, random_state=0)\n",
    "\n",
    "training_data = []\n",
    "training_label = []\n",
    "\n",
    "testing_data = []\n",
    "testing_label = []\n",
    "\n",
    "for train_index, test_index in sss.split(preprocessed_data, label):\n",
    "    for index in train_index:\n",
    "        training_data.append(preprocessed_data[index])\n",
    "        training_label.append(label[index])\n",
    "    \n",
    "    for index in test_index:\n",
    "        testing_data.append(preprocessed_data[index])\n",
    "        testing_label.append(label[index])\n",
    "\n",
    "print(\"original: \", len(preprocessed_data), len(label))\n",
    "print(\"training: \", len(training_data), len(training_label))\n",
    "print(\"testing: \", len(testing_data), len(testing_label))"
   ]
  },
  {
   "cell_type": "markdown",
   "metadata": {},
   "source": [
    "## M02\n",
    "a. Build `tfidf_model` by using codes below with `training data` you get in M01.d. (`TfidfVectorizer` is from scikit-learn)\n",
    "```\n",
    "def dummy(doc):\n",
    "    return doc\n",
    "tfidf = TfidfVectorizer(\n",
    "    analyzer='word',\n",
    "    tokenizer=dummy,\n",
    "    preprocessor=dummy,\n",
    "    token_pattern=None)\n",
    "```\n",
    "b. Transform `training data` and `testing data` you get in M01.d by using `tfidf_model` you get in M02.a. In this case, you will get numerical features, both from `training data` and `testing data`.<br><br>\n",
    "c. Choose a classification algorithm (you may use library such as scikit-learn), and explain why you choose it.<br><br>\n",
    "d. Train the classifier model, based on the algorithm you have chosen, by using numerical features of `training data` from M02.b.<br><br>\n",
    "e. Make predictions on the numerical features of `testing dataset` you get in M02.b using the classifier model that you have trained."
   ]
  },
  {
   "cell_type": "code",
   "execution_count": 29,
   "metadata": {},
   "outputs": [],
   "source": [
    "# put your code here for M02.a\n",
    "from sklearn.feature_extraction.text import TfidfVectorizer\n",
    "def dummy(doc):\n",
    "    return doc\n",
    "tfidf = TfidfVectorizer(\n",
    "    analyzer='word',\n",
    "    tokenizer=dummy,\n",
    "    preprocessor=dummy,\n",
    "    token_pattern=None)\n",
    "model = tfidf.fit(training_data)"
   ]
  },
  {
   "cell_type": "code",
   "execution_count": 30,
   "metadata": {},
   "outputs": [],
   "source": [
    "# put your code here for M02.b\n",
    "num_training_data = model.transform(training_data).toarray()\n",
    "num_testing_data = model.transform(testing_data).toarray()"
   ]
  },
  {
   "cell_type": "markdown",
   "metadata": {},
   "source": [
    "Your explanation (M02.c):<br>\n",
    "Logistic Regression<br>\n",
    "1. Karena label berupa binary (true/false)<br>\n",
    "2. Dan karena pada X terdapat fitur yang dapat menjelaskan mengapa tweet tersebut label tertentu. Misal pada X ada fitur \"jelek\" maka akan lebih cenderung ke sentimen negatif"
   ]
  },
  {
   "cell_type": "code",
   "execution_count": 31,
   "metadata": {},
   "outputs": [
    {
     "data": {
      "text/plain": [
       "LogisticRegression()"
      ]
     },
     "execution_count": 31,
     "metadata": {},
     "output_type": "execute_result"
    }
   ],
   "source": [
    "# put your code here for M02.d\n",
    "from sklearn.linear_model import LogisticRegression\n",
    "\n",
    "lr = LogisticRegression()\n",
    "lr.fit(num_training_data, training_label)"
   ]
  },
  {
   "cell_type": "code",
   "execution_count": 32,
   "metadata": {},
   "outputs": [],
   "source": [
    "# put your code here for M02.e\n",
    "y_pred = lr.predict(num_testing_data)"
   ]
  },
  {
   "cell_type": "markdown",
   "metadata": {},
   "source": [
    "## M03\n",
    "After train the classification model and make prediction using that model, now you will evaluate the performance of your model against testing dataset.<br>\n",
    "a. Calculate and print the accuracy of your model's predictions in M02.e against testing dataset ground truth<br>\n",
    "b. What you can infer based on the result?<br>"
   ]
  },
  {
   "cell_type": "code",
   "execution_count": 40,
   "metadata": {},
   "outputs": [],
   "source": [
    "import numpy as np\n",
    "import matplotlib.pyplot as plt\n",
    "from sklearn.metrics import plot_confusion_matrix\n",
    "\n",
    "class_names = []\n",
    "# Display confusion matrix\n",
    "def confusion_matrix(classifier, x, y, title):\n",
    "    disp = plot_confusion_matrix(classifier, x, y, cmap=plt.cm.Blues,normalize='true')\n",
    "    disp.ax_.set_title(title)\n",
    "\n",
    "    print(title)\n",
    "    print(disp.confusion_matrix)\n",
    "    plt.show()"
   ]
  },
  {
   "cell_type": "code",
   "execution_count": 41,
   "metadata": {},
   "outputs": [
    {
     "name": "stdout",
     "output_type": "stream",
     "text": [
      "accuracy:  0.9741602067183462\n",
      "f1 score:  0.9740932642487047\n",
      "Confusion Matrix\n",
      "[[0.96410256 0.03589744]\n",
      " [0.015625   0.984375  ]]\n"
     ]
    },
    {
     "data": {
      "image/png": "[encoded data removed]",
      "text/plain": [
       "<Figure size 432x288 with 2 Axes>"
      ]
     },
     "metadata": {
      "needs_background": "light"
     },
     "output_type": "display_data"
    }
   ],
   "source": [
    "#put your code here for Q03.a\n",
    "from sklearn.metrics import accuracy_score, f1_score\n",
    "\n",
    "print(\"accuracy: \", accuracy_score(testing_label, y_pred))\n",
    "print(\"f1 score: \", f1_score(testing_label, y_pred, average=None)[0])\n",
    "confusion_matrix(lr, num_testing_data, testing_label, \"Confusion Matrix\")"
   ]
  },
  {
   "cell_type": "markdown",
   "metadata": {},
   "source": [
    "Your answer (M03.b) :<br>\n",
    "1. Preprocessing yang dilakukan sangat sederhana namun dapat menghasilkan akurasi yang memuaskan. Hal ini menandakan bahwa raw data sudah memiliki kata-kata yang lengkap (minim singkatan dan minim typo)<br>\n",
    "2. Logistic Regression cukup efektif dalam mengklasifikasi masalah sentimen analisis"
   ]
  }
 ],
 "metadata": {
  "kernelspec": {
   "display_name": "Python 3",
   "language": "python",
   "name": "python3"
  },
  "language_info": {
   "codemirror_mode": {
    "name": "ipython",
    "version": 3
   },
   "file_extension": ".py",
   "mimetype": "text/x-python",
   "name": "python",
   "nbconvert_exporter": "python",
   "pygments_lexer": "ipython3",
   "version": "3.8.4"
  }
 },
 "nbformat": 4,
 "nbformat_minor": 2
}
